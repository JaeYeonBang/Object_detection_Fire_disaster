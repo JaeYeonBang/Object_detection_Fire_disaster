{
 "cells": [
  {
   "cell_type": "code",
   "execution_count": 191,
   "id": "d10c6ec5",
   "metadata": {},
   "outputs": [],
   "source": [
    "\"\"\"VOC Dataset Classes\n",
    "Original author: Francisco Massa\n",
    "https://github.com/fmassa/vision/blob/voc_dataset/torchvision/datasets/voc.py\n",
    "Updated by: Ellis Brown, Max deGroot\n",
    "\"\"\"\n",
    "import os\n",
    "# from .config import HOME\n",
    "import os.path as osp\n",
    "import sys\n",
    "import torch\n",
    "import torch.utils.data as data\n",
    "import cv2\n",
    "import numpy as np\n",
    "import random\n",
    "if sys.version_info[0] == 2:\n",
    "    import xml.etree.cElementTree as ET\n",
    "else:\n",
    "    import xml.etree.ElementTree as ET\n",
    "    \n",
    "import torchvision.transforms as transforms\n",
    "    \n",
    "VOC_CLASSES = (  # always index 0\n",
    "    'fire',\n",
    "'smoke',\n",
    "'person',\n",
    "'firefighter'\n",
    ")\n",
    "\n",
    "# note: if you used our download scripts, this should be right\n",
    "#DATA_ROOT = osp.join(HOME, \"data/fire/\")\n",
    "\n",
    "####### \n",
    "# VOC_ROOT = osp.join(HOME, \"data/fire/\")\n",
    "# DATA_ROOT = osp.join(HOME, \"data/fire/\")\n",
    "\n",
    "# VOC_ROOT = osp.join(\"./\", \"data/\")\n",
    "# DATA_ROOT = osp.join(\"./\", \"data\")\n",
    "\n",
    "class VOCAnnotationTransform_con(object):\n",
    "    \"\"\"Transforms a VOC annotation into a Tensor of bbox coords and label index\n",
    "    Initilized with a dictionary lookup of classnames to indexes\n",
    "    Arguments:\n",
    "        class_to_ind (dict, optional): dictionary lookup of classnames -> indexes\n",
    "            (default: alphabetic indexing of VOC's 20 classes)\n",
    "        keep_difficult (bool, optional): keep difficult instances or not\n",
    "            (default: False)\n",
    "        height (int): height\n",
    "        width (int): width\n",
    "    \"\"\"\n",
    "\n",
    "    def __init__(self, class_to_ind=None, keep_difficult=False):\n",
    "        self.class_to_ind = class_to_ind or dict(\n",
    "            zip(VOC_CLASSES, range(len(VOC_CLASSES))))\n",
    "        self.keep_difficult = keep_difficult\n",
    "\n",
    "    def __call__(self, target, width, height):\n",
    "        \"\"\"\n",
    "        Arguments:\n",
    "            target (annotation) : the target annotation to be made usable\n",
    "                will be an ET.Element\n",
    "        Returns:\n",
    "            a list containing lists of bounding boxes  [bbox coords, class name]\n",
    "        \"\"\"\n",
    "        res = []\n",
    "        for obj in target.iter('object'):\n",
    "            difficult = int(obj.find('difficult').text) == 1\n",
    "            if not self.keep_difficult and difficult:\n",
    "                continue\n",
    "            name = obj.find('name').text.lower().strip()\n",
    "            bbox = obj.find('bndbox')\n",
    "\n",
    "            pts = ['xmin', 'ymin', 'xmax', 'ymax']\n",
    "            bndbox = []\n",
    "            for i, pt in enumerate(pts):\n",
    "                cur_pt = int(bbox.find(pt).text) - 1\n",
    "                # scale height or width\n",
    "                cur_pt = cur_pt / width if i % 2 == 0 else cur_pt / height\n",
    "                bndbox.append(cur_pt)\n",
    "            #print(name)\n",
    "            if name not in VOC_CLASSES:\n",
    "                print(name)\n",
    "            \n",
    "            label_idx = self.class_to_ind[name]\n",
    "            bndbox.append(label_idx)\n",
    "            res += [bndbox]  # [xmin, ymin, xmax, ymax, label_ind]\n",
    "            # img_id = target.find('filename').text[:-4]\n",
    "            \n",
    "        #if res == []:\n",
    "        #    print('errrrrrrrr')\n",
    "\n",
    "        return res  # [[xmin, ymin, xmax, ymax, label_ind], ... ]\n",
    "\n",
    "\n",
    "class Firehouse_dataset(data.Dataset):\n",
    "\n",
    "    def __init__(self,root,dataset_type = \"VOC\", transform = None):\n",
    "        self.root = root\n",
    "        \n",
    "        ## HOME ROOT\n",
    "#         self.root = HOME\n",
    "        self.dataset_type = dataset_type\n",
    "        DATA_ROOT = osp.join(root, 'data/fire/')\n",
    "        \n",
    "\n",
    "        ##self.image_set = image_sets\n",
    "        self.voc_transform = transform\n",
    "        self.voc_target_transform = VOCAnnotationTransform_con()        \n",
    "        self.yolo_target_transform = self.VOC_2_YOLO_AnnotationTransform_con\n",
    "        \n",
    "        self._annopath = osp.join(DATA_ROOT, 'annotations', '%s.xml')\n",
    "    #     self.image_dir = osp.join(DATA_ROOT, 'images/')\n",
    "        self.annopath_dir = osp.join(DATA_ROOT, 'annotations/')\n",
    "        self.labeled_dir = osp.join(DATA_ROOT, 'labeled_img/')\n",
    "        self.unlabeled_dir = osp.join(DATA_ROOT, 'unlabeled_img/')\n",
    "\n",
    "\n",
    "        self.annotation_ids = os.listdir(self.annopath_dir)\n",
    "        self.labeled_ids = os.listdir(self.labeled_dir)\n",
    "        self.unlabeled_ids = os.listdir(self.unlabeled_dir)\n",
    "\n",
    "    def __getitem__(self,index):\n",
    "    \n",
    "    ## img = np\n",
    "        \n",
    "        _,img, gt, h, w, semi = self.pull_voc_item(index , transform = self.voc_transform)\n",
    "        if(self.dataset_type == \"VOC\"):\n",
    "            ##print(self.dataset_type)\n",
    "    \n",
    "            return torch.from_numpy(img).permute(2, 0, 1), gt, semi\n",
    "        ## return -> img , target , semi \n",
    "        \n",
    "        elif(self.dataset_type  == \"YOLO\"):\n",
    "            ##print(self.dataset_type)\n",
    "            yolo_gt = self.VOC_2_YOLO_AnnotationTransform_con(gt)\n",
    "            \n",
    "            img, yolo_gt = self.ToTensor((img, yolo_gt))\n",
    "            return img,yolo_gt,semi\n",
    "    ##return im,gt, semi\n",
    "\n",
    "    def  __len__(self):\n",
    "        return len(self.labeled_ids) + len(self.unlabeled_ids) \n",
    "  \n",
    "    def pull_voc_item(self, index, transform):\n",
    "    ## labeled된지 안된지 확인\n",
    "        if(index < len(self.labeled_ids)):\n",
    "            labeled_flag = True\n",
    "        else :\n",
    "            labeled_flag = False\n",
    "\n",
    "\n",
    "        if(labeled_flag is True):\n",
    "            img_id = self.labeled_ids[index]\n",
    "            img_path = osp.join(self.labeled_dir,img_id)\n",
    "            semi = np.array([1])\n",
    "            target = ET.parse(self._annopath % img_id[:-4]).getroot()\n",
    "        else:\n",
    "            img_id = self.unlabeled_ids[index - len(self.labeled_ids)]\n",
    "            img_path = osp.join(self.unlabeled_dir,img_id)    \n",
    "            semi = np.array([0])\n",
    "            target = np.zeros([1,5])\n",
    "\n",
    "        img_array = np.fromfile(img_path , np.uint8)\n",
    "        img = cv2.imdecode(img_array, cv2.IMREAD_COLOR)\n",
    "        \n",
    "        height, width, channels = img.shape\n",
    "        if(labeled_flag is True):\n",
    "            target = self.voc_target_transform(target, width, height)\n",
    "\n",
    "        if self.voc_transform is not None:\n",
    "            target = np.array(target)\n",
    "            if target.shape[0] ==0: \n",
    "                print(target.shape)\n",
    "                print(img_id)\n",
    "            img, boxes, labels = transform(img, target[:, :4], target[:, 4])\n",
    "            # to rgb\n",
    "            img = img[:, :, (2, 1, 0)]\n",
    "            # img = img.transpose(2, 0, 1)\n",
    "            target = np.hstack((boxes, np.expand_dims(labels, axis=1)))\n",
    "        return img_path , img, target, height, width, semi\n",
    "    \n",
    "    # return torch.from_numpy(img), target, height, width\n",
    "    def VOC_2_YOLO_AnnotationTransform_con(self, targets):\n",
    "        boxes = np.zeros((len(targets), 5))\n",
    "        for box_idx, target in enumerate(targets):\n",
    "            x1 = target[0]\n",
    "            y1 = target[1]\n",
    "            x2 = target[2]\n",
    "            y2 = target[3]\n",
    "            label = target[4]\n",
    "            boxes[box_idx, 0] = label\n",
    "            boxes[box_idx, 1] = ((x1 + x2) / 2)\n",
    "            boxes[box_idx, 2] = ((y1 + y2) / 2)\n",
    "            boxes[box_idx, 3] = (x2 - x1)\n",
    "            boxes[box_idx, 4] = (y2 - y1)\n",
    "\n",
    "        return boxes\n",
    "\n",
    "    def ToTensor(self,data):\n",
    "\n",
    "        img, boxes = data\n",
    "        # Extract image as PyTorch tensor\n",
    "        img = transforms.ToTensor()(img)\n",
    "\n",
    "        bb_targets = torch.zeros((len(boxes), 6))\n",
    "        bb_targets[:, 1:] = transforms.ToTensor()(boxes)\n",
    "\n",
    "        return img, bb_targets\n"
   ]
  },
  {
   "cell_type": "code",
   "execution_count": 192,
   "id": "2a84f945",
   "metadata": {},
   "outputs": [],
   "source": [
    "def collate_fn(batch):\n",
    "        #batch_count += 1\n",
    "\n",
    "    # Drop invalid images\n",
    "        #batch = [data for data in batch if data is not None]\n",
    "\n",
    "        #print('batch_list',len(batch))\n",
    "\n",
    "    imgs, bb_targets, semis = list(zip(*batch))\n",
    "\n",
    "        # Add sample index to targets\n",
    "    for i, boxes in enumerate(bb_targets):\n",
    "        boxes[:, 0] = i\n",
    "    bb_targets = torch.cat(bb_targets, 0)\n",
    "    #return paths, imgs, bb_targets, semis\n",
    "    return imgs, bb_targets, semis"
   ]
  },
  {
   "cell_type": "code",
   "execution_count": 230,
   "id": "52f0a5b5",
   "metadata": {},
   "outputs": [],
   "source": [
    "def detection_collate(batch):\n",
    "    \"\"\"Custom collate fn for dealing with batches of images that have a different\n",
    "    number of associated object annotations (bounding boxes).\n",
    "    Arguments:\n",
    "        batch: (tuple) A tuple of tensor images and lists of annotations\n",
    "    Return:\n",
    "        A tuple containing:\n",
    "            1) (tensor) batch of images stacked on their 0 dim\n",
    "            2) (list of tensors) annotations for a given image are stacked on\n",
    "                                 0 dim\n",
    "    \"\"\"\n",
    "    ### changed when semi-supervised\n",
    "    targets = []\n",
    "    imgs = []\n",
    "    semis = []\n",
    "    for sample in batch:\n",
    "        imgs.append(sample[0])\n",
    "        targets.append(torch.FloatTensor(sample[1]))\n",
    "        if(len(sample)==3):\n",
    "            semis.append(torch.FloatTensor(sample[2]))\n",
    "    if(len(sample)==2):\n",
    "        return torch.stack(imgs, 0), targets\n",
    "    else:\n",
    "        return torch.stack(imgs, 0), targets, semis"
   ]
  },
  {
   "cell_type": "code",
   "execution_count": 231,
   "id": "54ed10d7",
   "metadata": {},
   "outputs": [],
   "source": [
    "from utils.augmentations import SSDAugmentation\n",
    "# dataset = Firehouse_dataset(root = \"./\" , dataset_type = \"YOLO\", transform =  SSDAugmentation())\n",
    "\n",
    "YOLO_dataset = Firehouse_dataset(root = \"./\" , dataset_type = \"YOLO\", transform =  SSDAugmentation())\n",
    "VOC_dataset = Firehouse_dataset(root = \"./\" , dataset_type = \"VOC\", transform =  SSDAugmentation())"
   ]
  },
  {
   "cell_type": "code",
   "execution_count": 283,
   "id": "7f104595",
   "metadata": {},
   "outputs": [],
   "source": [
    "VOC_data_loader =torch.utils.data.DataLoader(VOC_dataset, batch_size = 2 , collate_fn = detection_collate)\n",
    "YOLO_data_loader =torch.utils.data.DataLoader(YOLO_dataset, batch_size = 2 , collate_fn = collate_fn)"
   ]
  },
  {
   "cell_type": "code",
   "execution_count": 284,
   "id": "d5d5e574",
   "metadata": {},
   "outputs": [],
   "source": [
    "i = iter(YOLO_data_loader)\n",
    "j = iter(VOC_data_loader)"
   ]
  },
  {
   "cell_type": "code",
   "execution_count": 285,
   "id": "a99e4352",
   "metadata": {},
   "outputs": [
    {
     "data": {
      "text/plain": [
       "(3, 5)"
      ]
     },
     "execution_count": 285,
     "metadata": {},
     "output_type": "execute_result"
    }
   ],
   "source": [
    "VOC_dataset.__getitem__(0)[1].shape"
   ]
  },
  {
   "cell_type": "code",
   "execution_count": 286,
   "id": "cb4122c1",
   "metadata": {},
   "outputs": [],
   "source": [
    "images, targets, semis = next(i)\n",
    "images2, targets2, semis2 = next(j)"
   ]
  },
  {
   "cell_type": "code",
   "execution_count": 287,
   "id": "dda3ea8b",
   "metadata": {},
   "outputs": [
    {
     "data": {
      "text/plain": [
       "tensor([[0.0000, 3.0000, 0.6439, 0.6965, 0.3220, 0.3362],\n",
       "        [1.0000, 0.0000, 0.5562, 0.7109, 0.0000, 0.0000]])"
      ]
     },
     "execution_count": 287,
     "metadata": {},
     "output_type": "execute_result"
    }
   ],
   "source": [
    "targets"
   ]
  },
  {
   "cell_type": "code",
   "execution_count": 288,
   "id": "a2a8c141",
   "metadata": {},
   "outputs": [
    {
     "data": {
      "text/plain": [
       "tuple"
      ]
     },
     "execution_count": 288,
     "metadata": {},
     "output_type": "execute_result"
    }
   ],
   "source": [
    "type(semis)"
   ]
  },
  {
   "cell_type": "code",
   "execution_count": 294,
   "id": "7ea15140",
   "metadata": {},
   "outputs": [
    {
     "data": {
      "text/plain": [
       "(array([1]), array([0]))"
      ]
     },
     "execution_count": 294,
     "metadata": {},
     "output_type": "execute_result"
    }
   ],
   "source": [
    "semis"
   ]
  },
  {
   "cell_type": "code",
   "execution_count": 290,
   "id": "de6c121f",
   "metadata": {},
   "outputs": [
    {
     "data": {
      "text/plain": [
       "torch.Tensor"
      ]
     },
     "execution_count": 290,
     "metadata": {},
     "output_type": "execute_result"
    }
   ],
   "source": [
    "type(semis2[0])"
   ]
  },
  {
   "cell_type": "code",
   "execution_count": 293,
   "id": "844d9444",
   "metadata": {},
   "outputs": [
    {
     "data": {
      "text/plain": [
       "[tensor([1.]), tensor([0.])]"
      ]
     },
     "execution_count": 293,
     "metadata": {},
     "output_type": "execute_result"
    }
   ],
   "source": [
    "semis2"
   ]
  },
  {
   "cell_type": "code",
   "execution_count": 292,
   "id": "dcad59a3",
   "metadata": {},
   "outputs": [
    {
     "data": {
      "text/plain": [
       "[tensor([[0.3832, 0.6893, 0.5026, 0.9218, 3.0000],\n",
       "         [0.2243, 0.7370, 0.3344, 0.9206, 3.0000],\n",
       "         [0.2440, 0.6837, 0.3126, 0.7710, 3.0000]]),\n",
       " tensor([[0.3199, 0.5451, 0.3199, 0.5451, 0.0000]])]"
      ]
     },
     "execution_count": 292,
     "metadata": {},
     "output_type": "execute_result"
    }
   ],
   "source": [
    "targets2"
   ]
  },
  {
   "cell_type": "code",
   "execution_count": 199,
   "id": "d2bb6294",
   "metadata": {},
   "outputs": [],
   "source": [
    "import matplotlib.pyplot as plt"
   ]
  },
  {
   "cell_type": "code",
   "execution_count": 200,
   "id": "ee01a8c4",
   "metadata": {},
   "outputs": [
    {
     "name": "stderr",
     "output_type": "stream",
     "text": [
      "Clipping input data to the valid range for imshow with RGB data ([0..1] for floats or [0..255] for integers).\n"
     ]
    },
    {
     "data": {
      "text/plain": [
       "<matplotlib.image.AxesImage at 0x1e894a22280>"
      ]
     },
     "execution_count": 200,
     "metadata": {},
     "output_type": "execute_result"
    },
    {
     "data": {
      "image/png": "[encoded data removed]",
      "text/plain": [
       "<Figure size 432x288 with 1 Axes>"
      ]
     },
     "metadata": {
      "needs_background": "light"
     },
     "output_type": "display_data"
    }
   ],
   "source": [
    "plt.imshow(images[0].permute(1,2,0))"
   ]
  },
  {
   "cell_type": "code",
   "execution_count": 206,
   "id": "33ec7a05",
   "metadata": {},
   "outputs": [
    {
     "data": {
      "text/plain": [
       "torch.Size([3, 300, 300])"
      ]
     },
     "execution_count": 206,
     "metadata": {},
     "output_type": "execute_result"
    }
   ],
   "source": [
    "images[0].shape"
   ]
  },
  {
   "cell_type": "code",
   "execution_count": 203,
   "id": "06b8cf4c",
   "metadata": {},
   "outputs": [
    {
     "name": "stderr",
     "output_type": "stream",
     "text": [
      "Clipping input data to the valid range for imshow with RGB data ([0..1] for floats or [0..255] for integers).\n"
     ]
    },
    {
     "data": {
      "text/plain": [
       "<matplotlib.image.AxesImage at 0x1e894a69d60>"
      ]
     },
     "execution_count": 203,
     "metadata": {},
     "output_type": "execute_result"
    },
    {
     "data": {
      "image/png": "[encoded data removed]",
      "text/plain": [
       "<Figure size 432x288 with 1 Axes>"
      ]
     },
     "metadata": {
      "needs_background": "light"
     },
     "output_type": "display_data"
    }
   ],
   "source": [
    "plt.imshow(images2[0].permute(1,2,0))"
   ]
  },
  {
   "cell_type": "code",
   "execution_count": 207,
   "id": "7c808909",
   "metadata": {},
   "outputs": [
    {
     "data": {
      "text/plain": [
       "torch.Size([3, 300, 300])"
      ]
     },
     "execution_count": 207,
     "metadata": {},
     "output_type": "execute_result"
    }
   ],
   "source": [
    "images2[0].shape"
   ]
  },
  {
   "cell_type": "code",
   "execution_count": null,
   "id": "924181ba",
   "metadata": {},
   "outputs": [],
   "source": []
  },
  {
   "cell_type": "code",
   "execution_count": 1,
   "id": "9e3ebd41",
   "metadata": {},
   "outputs": [],
   "source": [
    "from utils.Firehouse_dataset import *"
   ]
  },
  {
   "cell_type": "code",
   "execution_count": 3,
   "id": "b927a7ac",
   "metadata": {},
   "outputs": [],
   "source": [
    "from utils.transform import  DEFAULT_TRANSFORMS"
   ]
  },
  {
   "cell_type": "code",
   "execution_count": 4,
   "id": "16188e35",
   "metadata": {},
   "outputs": [],
   "source": [
    "data = Firehouse_dataset(root = \"./\" , dataset_type = \"VOC\" ,yolo_transform = DEFAULT_TRANSFORMS)"
   ]
  },
  {
   "cell_type": "code",
   "execution_count": 5,
   "id": "993df002",
   "metadata": {},
   "outputs": [],
   "source": [
    "data_loader =torch.utils.data.DataLoader(data, batch_size = 1,  # TODO? batch size \n",
    "                                  \n",
    "                                  )"
   ]
  },
  {
   "cell_type": "code",
   "execution_count": 6,
   "id": "12085a82",
   "metadata": {},
   "outputs": [],
   "source": [
    "i = iter(data_loader)"
   ]
  },
  {
   "cell_type": "code",
   "execution_count": 7,
   "id": "e7849659",
   "metadata": {},
   "outputs": [
    {
     "data": {
      "text/plain": [
       "[('./data/fire/labeled_img/T체r철ffnung und Brandbek채mpfung in der Brand-Simulations-Anlage Goldbach.mp4_1750.jpg',),\n",
       " tensor([[[[181, 181, 182,  ..., 251, 251, 251],\n",
       "           [181, 181, 182,  ..., 251, 251, 251],\n",
       "           [181, 181, 182,  ..., 251, 251, 251],\n",
       "           ...,\n",
       "           [136, 114,  92,  ...,  67,  68,  70],\n",
       "           [130, 107,  80,  ...,  67,  69,  71],\n",
       "           [121, 104,  73,  ...,  67,  69,  71]],\n",
       " \n",
       "          [[152, 152, 153,  ..., 255, 255, 255],\n",
       "           [152, 152, 153,  ..., 255, 255, 255],\n",
       "           [152, 152, 153,  ..., 255, 255, 255],\n",
       "           ...,\n",
       "           [134, 112,  90,  ...,  42,  42,  44],\n",
       "           [128, 105,  78,  ...,  42,  43,  45],\n",
       "           [119, 102,  71,  ...,  42,  43,  45]],\n",
       " \n",
       "          [[237, 237, 238,  ..., 255, 255, 255],\n",
       "           [237, 237, 238,  ..., 255, 255, 255],\n",
       "           [237, 237, 238,  ..., 255, 255, 255],\n",
       "           ...,\n",
       "           [134, 112,  90,  ..., 210, 212, 214],\n",
       "           [128, 105,  78,  ..., 210, 211, 213],\n",
       "           [119, 102,  71,  ..., 210, 211, 213]]]], dtype=torch.uint8),\n",
       " [[tensor([0.], dtype=torch.float64),\n",
       "   tensor([0.4278], dtype=torch.float64),\n",
       "   tensor([0.2396], dtype=torch.float64),\n",
       "   tensor([0.9972], dtype=torch.float64),\n",
       "   tensor([3])],\n",
       "  [tensor([0.3375], dtype=torch.float64),\n",
       "   tensor([0.5444], dtype=torch.float64),\n",
       "   tensor([0.5583], dtype=torch.float64),\n",
       "   tensor([0.9944], dtype=torch.float64),\n",
       "   tensor([3])],\n",
       "  [tensor([0.3812], dtype=torch.float64),\n",
       "   tensor([0.4139], dtype=torch.float64),\n",
       "   tensor([0.5188], dtype=torch.float64),\n",
       "   tensor([0.6278], dtype=torch.float64),\n",
       "   tensor([3])]],\n",
       " tensor([[1]], dtype=torch.int32)]"
      ]
     },
     "execution_count": 7,
     "metadata": {},
     "output_type": "execute_result"
    }
   ],
   "source": [
    "next(i)"
   ]
  },
  {
   "cell_type": "code",
   "execution_count": null,
   "id": "4a10ddfe",
   "metadata": {},
   "outputs": [],
   "source": []
  }
 ],
 "metadata": {
  "kernelspec": {
   "display_name": "Python 3",
   "language": "python",
   "name": "python3"
  },
  "language_info": {
   "codemirror_mode": {
    "name": "ipython",
    "version": 3
   },
   "file_extension": ".py",
   "mimetype": "text/x-python",
   "name": "python",
   "nbconvert_exporter": "python",
   "pygments_lexer": "ipython3",
   "version": "3.8.8"
  }
 },
 "nbformat": 4,
 "nbformat_minor": 5
}
